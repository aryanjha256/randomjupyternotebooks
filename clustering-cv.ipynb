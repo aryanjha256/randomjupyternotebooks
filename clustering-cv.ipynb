{
 "cells": [
  {
   "cell_type": "code",
   "execution_count": 1,
   "id": "74320057",
   "metadata": {
    "_cell_guid": "b1076dfc-b9ad-4769-8c92-a6c4dae69d19",
    "_uuid": "8f2839f25d086af736a60e9eeb907d3b93b6e0e5",
    "execution": {
     "iopub.execute_input": "2023-10-31T12:20:44.995096Z",
     "iopub.status.busy": "2023-10-31T12:20:44.994036Z",
     "iopub.status.idle": "2023-10-31T12:20:45.277467Z",
     "shell.execute_reply": "2023-10-31T12:20:45.276534Z"
    },
    "papermill": {
     "duration": 0.289203,
     "end_time": "2023-10-31T12:20:45.279671",
     "exception": false,
     "start_time": "2023-10-31T12:20:44.990468",
     "status": "completed"
    },
    "tags": []
   },
   "outputs": [],
   "source": [
    "# This Python 3 environment comes with many helpful analytics libraries installed\n",
    "# It is defined by the kaggle/python Docker image: https://github.com/kaggle/docker-python\n",
    "# For example, here's several helpful packages to load\n",
    "\n",
    "import numpy as np # linear algebra\n",
    "import pandas as pd # data processing, CSV file I/O (e.g. pd.read_csv)\n",
    "\n",
    "# Input data files are available in the read-only \"../input/\" directory\n",
    "# For example, running this (by clicking run or pressing Shift+Enter) will list all files under the input directory\n",
    "\n",
    "import os\n",
    "for dirname, _, filenames in os.walk('/kaggle/input'):\n",
    "    for filename in filenames:\n",
    "        print(os.path.join(dirname, filename))\n",
    "\n",
    "# You can write up to 20GB to the current directory (/kaggle/working/) that gets preserved as output when you create a version using \"Save & Run All\" \n",
    "# You can also write temporary files to /kaggle/temp/, but they won't be saved outside of the current session"
   ]
  },
  {
   "cell_type": "code",
   "execution_count": 2,
   "id": "fcedf598",
   "metadata": {
    "execution": {
     "iopub.execute_input": "2023-10-31T12:20:45.283879Z",
     "iopub.status.busy": "2023-10-31T12:20:45.283474Z",
     "iopub.status.idle": "2023-10-31T12:20:46.485532Z",
     "shell.execute_reply": "2023-10-31T12:20:46.484667Z"
    },
    "papermill": {
     "duration": 1.208201,
     "end_time": "2023-10-31T12:20:46.489487",
     "exception": false,
     "start_time": "2023-10-31T12:20:45.281286",
     "status": "completed"
    },
    "tags": []
   },
   "outputs": [
    {
     "name": "stdout",
     "output_type": "stream",
     "text": [
      "Cluster 1 Medoid: [9.29262211 4.47237541]\n",
      "Cluster 2 Medoid: [2.45020025 2.94577506]\n",
      "Cluster 3 Medoid: [7.04070239 3.69126898]\n"
     ]
    }
   ],
   "source": [
    "# k-Medoid\n",
    "import numpy as np\n",
    "import random\n",
    "from sklearn.metrics import pairwise_distances_argmin_min\n",
    "\n",
    "# Generate random data points for demonstration\n",
    "def generate_random_data(num_points, num_clusters, cluster_std = 1.0):\n",
    "    data = []\n",
    "    for _ in range(num_clusters):\n",
    "        cluster_center = np.array([random.uniform(0, 10), random.uniform(0, 10)])\n",
    "        points_in_cluster = np.random.normal(cluster_center, cluster_std, size = (num_points // num_clusters, 2))\n",
    "        data.extend(points_in_cluster)\n",
    "    return np.array(data)\n",
    "\n",
    "# k-Medoids algorithm\n",
    "def k_medoids(data, k, max_iterations = 100):\n",
    "    num_points = len(data)\n",
    "    \n",
    "#     Intialize k random medoids as the intial cluster centers\n",
    "    medoids_indices = np.array(random.sample(range(num_points), k))\n",
    "    medoids = data[medoids_indices]\n",
    "    \n",
    "    for iteration in range(max_iterations):\n",
    "#         Assign each data point to the nereast medoid\n",
    "        cluster_labels, distances = pairwise_distances_argmin_min(data, medoids)\n",
    "    \n",
    "#         Update the medoids\n",
    "        new_medoids = []\n",
    "        for i in range(k):\n",
    "            cluster_points = data[cluster_labels == i]\n",
    "#             Calculate the total distance within the cluster for each point as the pointential new medoid\n",
    "            total_distances = np.sum(pairwise_distances_argmin_min(cluster_points, cluster_points), axis = 1)\n",
    "#             Find the point with the minimum total distanc as the new medoid\n",
    "            new_medoid_idx = np.argmin(total_distances)\n",
    "            new_medoids.append(cluster_points[new_medoid_idx])\n",
    "        \n",
    "        new_medoids = np.array(new_medoids)\n",
    "        \n",
    "#         Check for comvergence\n",
    "        has_converged = (medoids == new_medoids).all()\n",
    "        if has_converged:\n",
    "            break\n",
    "        medoids = new_medoids\n",
    "        \n",
    "    return medoids, cluster_labels\n",
    "\n",
    "# Number of data points and clusters\n",
    "num_points = 300\n",
    "num_clusters = 3\n",
    "\n",
    "# Generate random data\n",
    "data = generate_random_data(num_points, num_clusters)\n",
    "\n",
    "# Perform k-Medoids clustering\n",
    "k = num_clusters # Number of clusters\n",
    "medoids, cluster_labels = k_medoids(data, k)\n",
    "\n",
    "# Print the cluster medoids\n",
    "for i, medoid in enumerate(medoids):\n",
    "    print(f'Cluster {i + 1} Medoid: {medoid}')\n",
    "    \n",
    "# You can also visualize the clusters using matplotlib or another plotting library\n",
    "# Here, we won't include the visualization code to keep it simple."
   ]
  }
 ],
 "metadata": {
  "kernelspec": {
   "display_name": "Python 3",
   "language": "python",
   "name": "python3"
  },
  "language_info": {
   "codemirror_mode": {
    "name": "ipython",
    "version": 3
   },
   "file_extension": ".py",
   "mimetype": "text/x-python",
   "name": "python",
   "nbconvert_exporter": "python",
   "pygments_lexer": "ipython3",
   "version": "3.10.12"
  },
  "papermill": {
   "default_parameters": {},
   "duration": 4.713575,
   "end_time": "2023-10-31T12:20:47.009799",
   "environment_variables": {},
   "exception": null,
   "input_path": "__notebook__.ipynb",
   "output_path": "__notebook__.ipynb",
   "parameters": {},
   "start_time": "2023-10-31T12:20:42.296224",
   "version": "2.4.0"
  }
 },
 "nbformat": 4,
 "nbformat_minor": 5
}
