{
  "nbformat": 4,
  "nbformat_minor": 0,
  "metadata": {
    "colab": {
      "provenance": [],
      "authorship_tag": "ABX9TyPYwhPY2XyxawJUYP6oercw",
      "include_colab_link": true
    },
    "kernelspec": {
      "name": "python3",
      "display_name": "Python 3"
    },
    "language_info": {
      "name": "python"
    }
  },
  "cells": [
    {
      "cell_type": "markdown",
      "metadata": {
        "id": "view-in-github",
        "colab_type": "text"
      },
      "source": [
        "<a href=\"https://colab.research.google.com/github/aryanjha256/randomjupyternotebooks/blob/main/MovieRecommenderII.ipynb\" target=\"_parent\"><img src=\"https://colab.research.google.com/assets/colab-badge.svg\" alt=\"Open In Colab\"/></a>"
      ]
    },
    {
      "cell_type": "code",
      "execution_count": 8,
      "metadata": {
        "colab": {
          "base_uri": "https://localhost:8080/"
        },
        "id": "tpt4oJ6wd388",
        "outputId": "d4730471-0c63-4c6f-c1fe-a0770eaedcd0"
      },
      "outputs": [
        {
          "output_type": "stream",
          "name": "stdout",
          "text": [
            "Recommended movies based on your choice (Movie A): ['Movie C', 'Movie B', 'Movie D', 'Movie E']\n"
          ]
        }
      ],
      "source": [
        "import pandas as pd\n",
        "from sklearn.feature_extraction.text import TfidfVectorizer\n",
        "from sklearn.metrics.pairwise import linear_kernel\n",
        "\n",
        "# Sample movie data with description\n",
        "movies_data = {\n",
        "    'movie_id': [1, 2, 3, 4, 5],\n",
        "    'title': ['Movie A', 'Movie B', 'Movie C', 'Movie D', 'Movie E'],\n",
        "    'description': [\n",
        "        'A action-packed adventure in a distant world.',\n",
        "        'A heartwarming drama filled with romance and emotions',\n",
        "        'A thrilling action movie set in a futuristuc world.',\n",
        "        'A tense drama with unexpected twists and turns',\n",
        "        'A hilarious comedy that will keep you laughing'\n",
        "    ]\n",
        "}\n",
        "\n",
        "# Convert movie data to a pandas DataFrame\n",
        "movies_df = pd.DataFrame(movies_data)\n",
        "\n",
        "# Create a TF-IDF vectorizer\n",
        "tfidf_vectorizer = TfidfVectorizer(stop_words='english')\n",
        "tfidf_matrix = tfidf_vectorizer.fit_transform(movies_df['description'])\n",
        "\n",
        "# Compute consine similarity\n",
        "consine_similarities = linear_kernel(tfidf_matrix, tfidf_matrix)\n",
        "\n",
        "# Function to get movie recommmendations based on description\n",
        "def get_movie_recommendations(movie_id, num_recommendations = 5):\n",
        "    similar_movies = list(enumerate(consine_similarities[movie_id]))\n",
        "    sorted_similar_movies = sorted(similar_movies, key=lambda x: x[1], reverse=True)\n",
        "    recommended_movies = []\n",
        "    for movie in sorted_similar_movies[1:num_recommendations + 1]:\n",
        "        movie_id, _ = movie\n",
        "        recommended_movies.append(movies_df.loc[movies_df['movie_id'] == movie_id + 1,'title'].values[0])\n",
        "\n",
        "    return recommended_movies\n",
        "\n",
        "# Sample user's movie choice\n",
        "user_movie_id = 0 # Assuming the user likes Movie A, corrected index\n",
        "\n",
        "# Recommend movies to the user based on theur chose movie\n",
        "recommended_movies = get_movie_recommendations(user_movie_id)\n",
        "\n",
        "# Display recommended movies\n",
        "print(f\"Recommended movies based on your choice (Movie A): {recommended_movies}\")"
      ]
    }
  ]
}