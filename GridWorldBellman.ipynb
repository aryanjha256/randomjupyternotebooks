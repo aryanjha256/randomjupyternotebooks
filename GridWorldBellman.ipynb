{
  "nbformat": 4,
  "nbformat_minor": 0,
  "metadata": {
    "colab": {
      "provenance": [],
      "authorship_tag": "ABX9TyPN6YKtUTqxHp+tNte1z5OG",
      "include_colab_link": true
    },
    "kernelspec": {
      "name": "python3",
      "display_name": "Python 3"
    },
    "language_info": {
      "name": "python"
    }
  },
  "cells": [
    {
      "cell_type": "markdown",
      "metadata": {
        "id": "view-in-github",
        "colab_type": "text"
      },
      "source": [
        "<a href=\"https://colab.research.google.com/github/aryanjha256/randomjupyternotebooks/blob/main/GridWorldBellman.ipynb\" target=\"_parent\"><img src=\"https://colab.research.google.com/assets/colab-badge.svg\" alt=\"Open In Colab\"/></a>"
      ]
    },
    {
      "cell_type": "code",
      "execution_count": 21,
      "metadata": {
        "id": "rTM41Ywhd7HN"
      },
      "outputs": [],
      "source": [
        "import numpy as np\n",
        "\n",
        "# Define constants for grid world\n",
        "GRID_SIZE = 5\n",
        "NUM_STATES = GRID_SIZE * GRID_SIZE\n",
        "NUM_ACTIONS = 4 # Up, Down, Left, Right\n",
        "GOAL_STATE = (GRID_SIZE -1, GRID_SIZE - 1)\n",
        "OBSTACLE_STATES = [(1, 1), (2, 2), (3, 1)]\n",
        "DISCOUNT_FACTOR = 0.9\n",
        "MAX_ITERATIONS = 1000\n",
        "EPSILON = 1e-6 # Convergence threshold"
      ]
    },
    {
      "cell_type": "code",
      "source": [
        "# Actions: up, down, left, right\n",
        "actions = [-GRID_SIZE, GRID_SIZE, -1, 1]\n",
        "\n",
        "# Intialize the value function arbitrarily\n",
        "value_function = np.zeros(NUM_STATES)\n",
        "\n",
        "# Define transition dynamics and rewards\n",
        "transition_probabilities = np.zeros((NUM_STATES, NUM_ACTIONS, NUM_STATES))\n",
        "rewards = np.zeros(NUM_STATES)\n",
        "\n",
        "for state in range(NUM_STATES):\n",
        "  if state == GOAL_STATE[0] * GRID_SIZE + GOAL_STATE[1]:\n",
        "    rewards[state] = 10 # Goal state\n",
        "  elif state in [s[0] * GRID_SIZE + s[1] for s in OBSTACLE_STATES]:\n",
        "    rewards[state] = -10 # Obstacle state\n",
        "\n",
        "  row, col = state // GRID_SIZE, state % GRID_SIZE\n",
        "  for action in range(NUM_ACTIONS):\n",
        "    if actions == 0:\n",
        "      next_state = max(0, row - 1) * GRID_SIZE + col\n",
        "    elif actions == 1:\n",
        "      next_state = min(GRID_SIZE - 1, row + 1) * GRID_SIZE + col\n",
        "    elif actions == 2:\n",
        "      next_state = row * GRID_SIZE + max(0, col -1)\n",
        "    else:\n",
        "      next_state = row * GRID_SIZE + min(GRID_SIZE - 1, col + 1)\n",
        "\n",
        "    transition_probabilities[state, action, next_state] = 1.0\n",
        "\n",
        "# Perform value iteration\n",
        "for i in range(MAX_ITERATIONS):\n",
        "  new_value_function = np.zeros(NUM_STATES)\n",
        "  for state in range(NUM_STATES):\n",
        "    expected_rewards = np.sum(\n",
        "        transition_probabilities[state] * (rewards + DISCOUNT_FACTOR * value_function),\n",
        "        axis = 1\n",
        "    )\n",
        "    new_value_function[state] = np.max(expected_rewards)\n",
        "  if np.max(np.abs(new_value_function - value_function)) < EPSILON:\n",
        "    break\n",
        "  value_function = new_value_function\n",
        "\n",
        "# Print the optimal value function\n",
        "print(\"Optimal value function:\")\n",
        "print(value_function.reshape((GRID_SIZE, GRID_SIZE)))\n"
      ],
      "metadata": {
        "colab": {
          "base_uri": "https://localhost:8080/"
        },
        "id": "kpxnsc76f68Y",
        "outputId": "636c537a-ab3c-42e4-ef39-10f57ce19534"
      },
      "execution_count": 23,
      "outputs": [
        {
          "output_type": "stream",
          "name": "stdout",
          "text": [
            "Optimal value function:\n",
            "[[  0.           0.           0.           0.           0.        ]\n",
            " [-10.           0.           0.           0.           0.        ]\n",
            " [ -9.         -10.           0.           0.           0.        ]\n",
            " [-10.           0.           0.           0.           0.        ]\n",
            " [ 72.89999002  80.99999002  89.99999002  99.99999002  99.99999002]]\n"
          ]
        }
      ]
    }
  ]
}