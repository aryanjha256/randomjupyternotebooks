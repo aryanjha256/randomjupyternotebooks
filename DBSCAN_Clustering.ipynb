{
  "nbformat": 4,
  "nbformat_minor": 0,
  "metadata": {
    "colab": {
      "provenance": [],
      "authorship_tag": "ABX9TyP50dIf4A03PlZvMM5CSmaY",
      "include_colab_link": true
    },
    "kernelspec": {
      "name": "python3",
      "display_name": "Python 3"
    },
    "language_info": {
      "name": "python"
    }
  },
  "cells": [
    {
      "cell_type": "markdown",
      "metadata": {
        "id": "view-in-github",
        "colab_type": "text"
      },
      "source": [
        "<a href=\"https://colab.research.google.com/github/aryanjha256/randomjupyternotebooks/blob/main/DBSCAN_Clustering.ipynb\" target=\"_parent\"><img src=\"https://colab.research.google.com/assets/colab-badge.svg\" alt=\"Open In Colab\"/></a>"
      ]
    },
    {
      "cell_type": "code",
      "execution_count": 5,
      "metadata": {
        "id": "BmPW44ueNI6_"
      },
      "outputs": [],
      "source": [
        "# Import required libraries\n",
        "import numpy as np\n",
        "from sklearn.cluster import DBSCAN\n",
        "from sklearn.metrics import silhouette_samples, silhouette_score"
      ]
    },
    {
      "cell_type": "code",
      "source": [
        "# Generate sample data\n",
        "X = np.array([[2,3],[2,5],[3,4],[5,3],[5,5],[6,4],[8,2],[8,4],[9,5]])\n",
        "\n",
        "# Perform DBSCAN clustering\n",
        "dbscan = DBSCAN(eps=1.5, min_samples=3)\n",
        "cluster_labels = dbscan.fit_predict(X)\n",
        "\n",
        "# Exclude noise points\n",
        "valid_labels = cluster_labels != -1\n",
        "valid_X= X[valid_labels]\n",
        "valid_cluster_labels = cluster_labels[valid_labels]\n"
      ],
      "metadata": {
        "id": "tAJC1gCQOpgP"
      },
      "execution_count": 6,
      "outputs": []
    },
    {
      "cell_type": "code",
      "source": [
        "import matplotlib.pyplot as plt\n"
      ],
      "metadata": {
        "id": "UIxUcd1-PkMX"
      },
      "execution_count": null,
      "outputs": []
    }
  ]
}