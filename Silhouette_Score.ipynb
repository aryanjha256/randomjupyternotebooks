{
  "nbformat": 4,
  "nbformat_minor": 0,
  "metadata": {
    "colab": {
      "provenance": [],
      "authorship_tag": "ABX9TyPoGuJJOtekSKu0nImQkg1h",
      "include_colab_link": true
    },
    "kernelspec": {
      "name": "python3",
      "display_name": "Python 3"
    },
    "language_info": {
      "name": "python"
    }
  },
  "cells": [
    {
      "cell_type": "markdown",
      "metadata": {
        "id": "view-in-github",
        "colab_type": "text"
      },
      "source": [
        "<a href=\"https://colab.research.google.com/github/aryanjha256/randomjupyternotebooks/blob/main/Silhouette_Score.ipynb\" target=\"_parent\"><img src=\"https://colab.research.google.com/assets/colab-badge.svg\" alt=\"Open In Colab\"/></a>"
      ]
    },
    {
      "cell_type": "code",
      "execution_count": 3,
      "metadata": {
        "id": "IFD6bkqmPnKS"
      },
      "outputs": [],
      "source": [
        "from sklearn.datasets import make_blobs\n",
        "from sklearn.cluster import KMeans\n",
        "from sklearn.metrics import silhouette_score, silhouette_samples\n",
        "\n",
        "\n",
        "import matplotlib.pyplot as plt\n",
        "import matplotlib.cm as cm\n",
        "import numpy as np\n",
        "\n",
        "\n",
        "# Genrating the sample data\n",
        "# This particular setting has one disctint ckuster and 3 clusters p1 together.\n",
        "\n",
        "X, y = make_blobs(\n",
        "    n_samples= 500,\n",
        "    n_features = 2,\n",
        "    centers = 4,\n",
        "    cluster_std = 1,\n",
        "    center_box = (-10.0, 10.0),\n",
        "    shuffle  = True,\n",
        "    random_state = 1\n",
        ") # For reproducibility\n",
        "\n"
      ]
    },
    {
      "cell_type": "code",
      "source": [
        "range_n_clusters = [2, 3, 4, 5, 6]\n"
      ],
      "metadata": {
        "id": "2nZ2OgG2S_9T"
      },
      "execution_count": 4,
      "outputs": []
    }
  ]
}