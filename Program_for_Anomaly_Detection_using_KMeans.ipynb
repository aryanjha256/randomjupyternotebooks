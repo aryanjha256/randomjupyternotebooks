{
  "nbformat": 4,
  "nbformat_minor": 0,
  "metadata": {
    "colab": {
      "provenance": [],
      "authorship_tag": "ABX9TyM2gJCsnEalKAl7xd7hCjLv",
      "include_colab_link": true
    },
    "kernelspec": {
      "name": "python3",
      "display_name": "Python 3"
    },
    "language_info": {
      "name": "python"
    }
  },
  "cells": [
    {
      "cell_type": "markdown",
      "metadata": {
        "id": "view-in-github",
        "colab_type": "text"
      },
      "source": [
        "<a href=\"https://colab.research.google.com/github/aryanjha256/randomjupyternotebooks/blob/main/Program_for_Anomaly_Detection_using_KMeans.ipynb\" target=\"_parent\"><img src=\"https://colab.research.google.com/assets/colab-badge.svg\" alt=\"Open In Colab\"/></a>"
      ]
    },
    {
      "cell_type": "code",
      "execution_count": null,
      "metadata": {
        "id": "aG8-XzKTJfz8"
      },
      "outputs": [],
      "source": [
        "import numpy as np\n",
        "import matplotlib.pyplot as plt\n",
        "from sklearn.cluster import KMeans\n",
        "\n",
        "# Generate synthetic data\n",
        "np.random.seed(42)\n",
        "normal_data = np.random.randn(10, 2) * 2  # Normal data points\n",
        "anomaly_data = np.random.randn(5, 2) * 5   # Anomaly data points\n",
        "\n",
        "# Combine normal and anomaly data\n",
        "data = np.vstack((normal_data, anomaly_data))\n",
        "\n",
        "# Fit KMeans model with 5 clusters\n",
        "num_clusters = 5\n",
        "model = KMeans(n_clusters=num_clusters, random_state=42)\n",
        "cluster_labels = model.fit_predict(data)\n",
        "\n",
        "# Calculate cluster sizes\n",
        "cluster_sizes = np.bincount(cluster_labels)\n",
        "\n",
        "# Print cluster sizes\n",
        "for cluster_id, size in enumerate(cluster_sizes):\n",
        "    print(f\"Cluster {cluster_id}: Size {size}\")\n",
        "\n",
        "# Plot the data points with cluster assignments\n",
        "plt.figure(figsize=(10, 6))\n",
        "\n",
        "# Plot the normal data\n",
        "plt.scatter(data[:, 0], data[:, 1], c=cluster_labels, cmap='rainbow')\n",
        "plt.scatter(model.cluster_centers_[:, 0], model.cluster_centers_[:, 1], marker='x', s=200, linewidths=3, color='black', label='Cluster Centers')\n",
        "plt.xlabel('Feature 1')\n",
        "plt.ylabel('Feature 2')\n",
        "plt.title('Anomaly Detection using KMeans Clustering')\n",
        "plt.legend()\n",
        "plt.show()"
      ]
    }
  ]
}